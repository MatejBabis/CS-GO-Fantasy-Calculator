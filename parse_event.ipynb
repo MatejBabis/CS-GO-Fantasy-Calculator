{
 "cells": [
  {
   "cell_type": "markdown",
   "metadata": {},
   "source": [
    "### ↓↓↓ INPUT HERE ↓↓↓"
   ]
  },
  {
   "cell_type": "code",
   "execution_count": 1,
   "metadata": {},
   "outputs": [],
   "source": [
    "SCORES = \"\"\"\n",
    "#\tTeam\tUser\tRole / Boost\tPoints\tTeamPoints\tTotal\n",
    "1\tKarambit Doppler StatTrak\tKokyTheGod\t82 / 50\t123\t6\t261\n",
    "2\tKes\tVrzman\t96 / 40\t113\t6\t255\n",
    "3\tThe Chosen Ones\tRippSir\t92 / 20\t117\t15\t244\n",
    "4\tnew year new me\timpvlse\t101 / 20\t33\t42\t196\n",
    "5\tKniff je muj\tTademon\t39 / 10\t-11\t-39\t-1\n",
    "6\tOu se babiiiiii\tRakvis\t20 / 0\t-26\t-30\t-36\n",
    "7\tNajf\tPolysmen\t21 / 20\t-46\t-39\t-44\n",
    "\"\"\"\n",
    "\n",
    "TOURNAMENT = \"DramHack Open Leipzig 2020\"\n",
    "MULTIPLIER = 0.9\n",
    "MAX_SCORE = 600\n",
    "\n",
    "\n",
    "######### AUTO BACK UP JUST TO BE SAFE ##############\n",
    "filename = TOURNAMENT.replace(\" \", \"_\")\n",
    "with open(\"./inputs/\" + filename + \".txt\", mode='w') as f:\n",
    "    f.write(\"TOURNAMENT: \" + TOURNAMENT + \"\\n\")\n",
    "    f.write(\"MULTIPLIER: \" + str(MULTIPLIER) + \"\\n\")\n",
    "    f.write(\"MAX_SCORE: \" + str(MAX_SCORE) + \"\\n\")\n",
    "    f.write(\"\\nInput used:\")\n",
    "    f.write(SCORES)"
   ]
  },
  {
   "cell_type": "markdown",
   "metadata": {},
   "source": [
    "### ↑↑↑ INPUT HERE ↑↑↑\n",
    "\n",
    "### Then, run all cells.\n",
    "  "
   ]
  },
  {
   "cell_type": "code",
   "execution_count": 2,
   "metadata": {},
   "outputs": [],
   "source": [
    "import re\n",
    "import os.path\n",
    "import csv\n",
    "from constants import *"
   ]
  },
  {
   "cell_type": "code",
   "execution_count": 3,
   "metadata": {},
   "outputs": [],
   "source": [
    "# FOR USE IN TERMINAL\n",
    "def read_user_input_terminal():\n",
    "    print(\"Paste a copied result table from league's 'Leaderboard' page:\")\n",
    "    copied_contents = []\n",
    "    # Loop until the whole table is read in\n",
    "    while True:\n",
    "        line = input()\n",
    "        # Terminate\n",
    "        if line == '':\n",
    "            break\n",
    "        # Skip the table headers\n",
    "        elif line == '#   Team   User   Role / Boost   Points   TeamPoints   Total':\n",
    "            continue\n",
    "        # Append line to the contents\n",
    "        else:\n",
    "            copied_contents.append(line)\n",
    "\n",
    "    return copied_contents\n",
    "\n",
    "# FOR USE IN NOTEBOOK\n",
    "def read_user_input_notebook(data_string):\n",
    "    copied_contents = []\n",
    "    # Loop until the whole table is read in\n",
    "    for line in data_string.replace('\\t', '   ').split('\\n'):\n",
    "        # Skip the table headers\n",
    "        if line == '#   Team   User   Role / Boost   Points   TeamPoints   Total':\n",
    "            continue\n",
    "        # Skip empty lines\n",
    "        elif line == '':\n",
    "            continue\n",
    "        # Append line to the contents\n",
    "        else:\n",
    "            copied_contents.append(line)\n",
    "    return copied_contents\n",
    "\n",
    "\n",
    "def parse2dict(entry):\n",
    "    matchObj = re.match(REGEX_PATTERN, entry)\n",
    "    parsed_data = matchObj.groupdict()\n",
    "\n",
    "    # Cast numbers to ints\n",
    "    parsed_data['ROLE'] = int(parsed_data['ROLE'])\n",
    "    parsed_data['BOOST'] = int(parsed_data['BOOST'])\n",
    "    parsed_data['POINTS'] = int(parsed_data['POINTS'])\n",
    "    parsed_data['TEAMPOINTS'] = int(parsed_data['TEAMPOINTS'])\n",
    "    parsed_data['TOTAL'] = int(parsed_data['TOTAL'])\n",
    "\n",
    "    return parsed_data\n"
   ]
  },
  {
   "cell_type": "code",
   "execution_count": 4,
   "metadata": {},
   "outputs": [
    {
     "name": "stdout",
     "output_type": "stream",
     "text": [
      "1   Karambit Doppler StatTrak   KokyTheGod   82 / 50   123   6   261\n",
      "2   Kes   Vrzman   96 / 40   113   6   255\n",
      "3   The Chosen Ones   RippSir   92 / 20   117   15   244\n",
      "4   new year new me   impvlse   101 / 20   33   42   196\n",
      "5   Kniff je muj   Tademon   39 / 10   -11   -39   -1\n",
      "6   Ou se babiiiiii   Rakvis   20 / 0   -26   -30   -36\n",
      "7   Najf   Polysmen   21 / 20   -46   -39   -44\n",
      "DramHack Open Leipzig 2020 results are:\n",
      "KokyTheGod: 0.3915\n",
      "Vrzman: 0.3825\n",
      "RippSir: 0.366\n",
      "impvlse: 0.294\n",
      "Tademon: -0.0015\n",
      "Rakvis: -0.054\n",
      "Polysmen: -0.066\n"
     ]
    }
   ],
   "source": [
    "data = read_user_input_notebook(SCORES)\n",
    "\n",
    "results = []\n",
    "#print(data)\n",
    "for entry in data:\n",
    "    print(entry)\n",
    "    results.append(parse2dict(entry))\n",
    "print(TOURNAMENT, \"results are:\")\n",
    "for result in results:\n",
    "    waid_score = result['TOTAL'] / MAX_SCORE * MULTIPLIER\n",
    "    print(result['USER'] + \":\", waid_score)"
   ]
  },
  {
   "cell_type": "code",
   "execution_count": 5,
   "metadata": {
    "scrolled": true
   },
   "outputs": [
    {
     "name": "stdout",
     "output_type": "stream",
     "text": [
      "File exists. Do you want to cancel?\n",
      "y\n"
     ]
    },
    {
     "ename": "KeyboardInterrupt",
     "evalue": "",
     "output_type": "error",
     "traceback": [
      "\u001b[1;31m---------------------------------------------------------------------------\u001b[0m",
      "\u001b[1;31mKeyboardInterrupt\u001b[0m                         Traceback (most recent call last)",
      "\u001b[1;32m<ipython-input-5-4762fc402af5>\u001b[0m in \u001b[0;36m<module>\u001b[1;34m\u001b[0m\n\u001b[0;32m      7\u001b[0m     \u001b[1;31m# Not foolproof but that's not the point...\u001b[0m\u001b[1;33m\u001b[0m\u001b[1;33m\u001b[0m\u001b[1;33m\u001b[0m\u001b[0m\n\u001b[0;32m      8\u001b[0m     \u001b[1;32mif\u001b[0m \u001b[0musr_input\u001b[0m \u001b[1;33m==\u001b[0m \u001b[1;34m\"y\"\u001b[0m \u001b[1;32mor\u001b[0m \u001b[0musr_input\u001b[0m \u001b[1;33m==\u001b[0m \u001b[1;34m'yes'\u001b[0m \u001b[1;32mor\u001b[0m \u001b[0musr_input\u001b[0m \u001b[1;33m==\u001b[0m \u001b[1;34m'Yes'\u001b[0m \u001b[1;32mor\u001b[0m \u001b[0musr_input\u001b[0m \u001b[1;33m==\u001b[0m \u001b[1;34m'YES'\u001b[0m \u001b[1;32mor\u001b[0m \u001b[0musr_input\u001b[0m \u001b[1;33m==\u001b[0m \u001b[1;34m'Y'\u001b[0m\u001b[1;33m:\u001b[0m\u001b[1;33m\u001b[0m\u001b[1;33m\u001b[0m\u001b[0m\n\u001b[1;32m----> 9\u001b[1;33m         \u001b[1;32mraise\u001b[0m \u001b[0mKeyboardInterrupt\u001b[0m\u001b[1;33m\u001b[0m\u001b[1;33m\u001b[0m\u001b[0m\n\u001b[0m\u001b[0;32m     10\u001b[0m \u001b[1;33m\u001b[0m\u001b[0m\n\u001b[0;32m     11\u001b[0m \u001b[1;31m# Save results to a file\u001b[0m\u001b[1;33m\u001b[0m\u001b[1;33m\u001b[0m\u001b[1;33m\u001b[0m\u001b[0m\n",
      "\u001b[1;31mKeyboardInterrupt\u001b[0m: "
     ]
    }
   ],
   "source": [
    "filepath = \"./results/\" + filename + \".csv\"\n",
    "\n",
    "if os.path.isfile(filepath):\n",
    "    print(\"File exists. Do you want to cancel?\")\n",
    "    usr_input = input()\n",
    "    \n",
    "    # Not foolproof but that's not the point...\n",
    "    if usr_input == \"y\" or usr_input == 'yes' or usr_input == 'Yes' or usr_input == 'YES' or usr_input == 'Y':\n",
    "        raise KeyboardInterrupt\n",
    "        \n",
    "# Save results to a file\n",
    "with open(filepath, mode='w') as f:\n",
    "    \n",
    "    writer = csv.DictWriter(f, fieldnames=HEADERS)\n",
    "    # write header string\n",
    "    writer.writeheader()\n",
    "\n",
    "    for i, result in enumerate(results):\n",
    "        # compute and add Waid score\n",
    "        results[i][\"WAID\"] = result['TOTAL'] / MAX_SCORE * MULTIPLIER\n",
    "        \n",
    "        writer.writerow(result)"
   ]
  },
  {
   "cell_type": "code",
   "execution_count": null,
   "metadata": {},
   "outputs": [],
   "source": []
  },
  {
   "cell_type": "code",
   "execution_count": null,
   "metadata": {},
   "outputs": [],
   "source": []
  }
 ],
 "metadata": {
  "kernelspec": {
   "display_name": "Python 3",
   "language": "python",
   "name": "python3"
  },
  "language_info": {
   "codemirror_mode": {
    "name": "ipython",
    "version": 3
   },
   "file_extension": ".py",
   "mimetype": "text/x-python",
   "name": "python",
   "nbconvert_exporter": "python",
   "pygments_lexer": "ipython3",
   "version": "3.7.3"
  }
 },
 "nbformat": 4,
 "nbformat_minor": 2
}
