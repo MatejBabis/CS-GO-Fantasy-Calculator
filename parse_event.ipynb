{
 "cells": [
  {
   "cell_type": "markdown",
   "metadata": {},
   "source": [
    "### ↓↓↓ INPUT HERE ↓↓↓"
   ]
  },
  {
   "cell_type": "code",
   "execution_count": 1,
   "metadata": {},
   "outputs": [],
   "source": [
    "SCORES = \"\"\"\n",
    "#\tTeam\tUser\tRole / Boost\tPoints\tTotal\n",
    "1\t3/5 antiSasa\tVrzman\t117 / 80\t408\t605\n",
    "2\tTo nejlepší nakonec\tTademon\t110 / 70\t208\t388\n",
    "3\t______pod carou jsou lamy_____\timpvlse\t126 / 80\t167\t373\n",
    "4\tBoys don't cry\tPolysmen\t87 / 60\t57\t204\n",
    "5\tThe Chosen Ones\tRippSir\t108 / 40\t39\t187\n",
    "6\t2020 je moje kundy\tKokyTheGod\t98 / 30\t45\t173\n",
    "7\tNeřeknu\trahic\t21 / 30\t-37\t14\n",
    "\"\"\"\n",
    "\n",
    "TOURNAMENT = \"Epicenter 2019\"\n",
    "MULTIPLIER = 0.9\n",
    "MAX_SCORE = 832\n",
    "\n",
    "\n",
    "######### AUTO BACK UP JUST TO BE SAFE ##############\n",
    "filename = TOURNAMENT.replace(\" \", \"_\")\n",
    "with open(\"./inputs/\" + filename + \".txt\", mode='w') as f:\n",
    "    f.write(\"TOURNAMENT: \" + TOURNAMENT + \"\\n\")\n",
    "    f.write(\"MULTIPLIER: \" + str(MULTIPLIER) + \"\\n\")\n",
    "    f.write(\"MAX_SCORE: \" + str(MAX_SCORE) + \"\\n\")\n",
    "    f.write(\"\\nInput used:\")\n",
    "    f.write(SCORES)"
   ]
  },
  {
   "cell_type": "markdown",
   "metadata": {},
   "source": [
    "### ↑↑↑ INPUT HERE ↑↑↑\n",
    "\n",
    "### Then, run all cells.\n",
    "  "
   ]
  },
  {
   "cell_type": "code",
   "execution_count": 2,
   "metadata": {},
   "outputs": [],
   "source": [
    "import re\n",
    "import os.path\n",
    "import csv\n",
    "from constants import *"
   ]
  },
  {
   "cell_type": "code",
   "execution_count": 3,
   "metadata": {},
   "outputs": [],
   "source": [
    "# FOR USE IN TERMINAL\n",
    "def read_user_input_terminal():\n",
    "    print(\"Paste a copied result table from league's 'Leaderboard' page:\")\n",
    "    copied_contents = []\n",
    "    # Loop until the whole table is read in\n",
    "    while True:\n",
    "        line = input()\n",
    "        # Terminate\n",
    "        if line == '':\n",
    "            break\n",
    "        # Skip the table headers\n",
    "        elif line == '#   Team   User   Role / Boost   Points   Total':\n",
    "            continue\n",
    "        # Append line to the contents\n",
    "        else:\n",
    "            copied_contents.append(line)\n",
    "\n",
    "    return copied_contents\n",
    "\n",
    "# FOR USE IN NOTEBOOK\n",
    "def read_user_input_notebook(data_string):\n",
    "    copied_contents = []\n",
    "    # Loop until the whole table is read in\n",
    "    for line in data_string.replace('\\t', '   ').split('\\n'):\n",
    "        # Skip the table headers\n",
    "        if line == '#   Team   User   Role / Boost   Points   Total':\n",
    "            continue\n",
    "        # Skip empty lines\n",
    "        elif line == '':\n",
    "            continue\n",
    "        # Append line to the contents\n",
    "        else:\n",
    "            copied_contents.append(line)\n",
    "\n",
    "    return copied_contents\n",
    "\n",
    "\n",
    "def parse2dict(entry):\n",
    "    matchObj = re.match(REGEX_PATTERN, entry)\n",
    "    parsed_data = matchObj.groupdict()\n",
    "\n",
    "    # Cast numbers to ints\n",
    "    parsed_data['ROLE'] = int(parsed_data['ROLE'])\n",
    "    parsed_data['BOOST'] = int(parsed_data['BOOST'])\n",
    "    parsed_data['POINTS'] = int(parsed_data['POINTS'])\n",
    "    parsed_data['TOTAL'] = int(parsed_data['TOTAL'])\n",
    "\n",
    "    return parsed_data\n"
   ]
  },
  {
   "cell_type": "code",
   "execution_count": 4,
   "metadata": {},
   "outputs": [
    {
     "name": "stdout",
     "output_type": "stream",
     "text": [
      "Epicenter 2019 results are:\n",
      "Vrzman: 0.6544471153846154\n",
      "Tademon: 0.41971153846153847\n",
      "impvlse: 0.40348557692307696\n",
      "Polysmen: 0.22067307692307692\n",
      "RippSir: 0.20228365384615385\n",
      "KokyTheGod: 0.18713942307692308\n",
      "rahic: 0.01514423076923077\n"
     ]
    }
   ],
   "source": [
    "data = read_user_input_notebook(SCORES)\n",
    "\n",
    "results = []\n",
    "for entry in data:\n",
    "    results.append(parse2dict(entry))\n",
    "\n",
    "print(TOURNAMENT, \"results are:\")\n",
    "for result in results:\n",
    "    waid_score = result['TOTAL'] / MAX_SCORE * MULTIPLIER\n",
    "    print(result['USER'] + \":\", waid_score)"
   ]
  },
  {
   "cell_type": "code",
   "execution_count": 5,
   "metadata": {},
   "outputs": [],
   "source": [
    "filepath = \"./results/\" + filename + \".csv\"\n",
    "\n",
    "if os.path.isfile(filepath):\n",
    "    print(\"File exists. Do you want to cancel?\")\n",
    "    usr_input = input()\n",
    "    \n",
    "    # Not foolproof but that's not the point...\n",
    "    if usr_input == \"y\" or usr_input == 'yes' or usr_input == 'Yes' or usr_input == 'YES' or usr_input == 'Y':\n",
    "        raise KeyboardInterrupt\n",
    "        \n",
    "# Save results to a file\n",
    "with open(filepath, mode='w') as f:\n",
    "    \n",
    "    writer = csv.DictWriter(f, fieldnames=HEADERS)\n",
    "    # write header string\n",
    "    writer.writeheader()\n",
    "\n",
    "    for i, result in enumerate(results):\n",
    "        # compute and add Waid score\n",
    "        results[i][\"WAID\"] = result['TOTAL'] / MAX_SCORE * MULTIPLIER\n",
    "        \n",
    "        writer.writerow(result)"
   ]
  }
 ],
 "metadata": {
  "kernelspec": {
   "display_name": "Python 3",
   "language": "python",
   "name": "python3"
  },
  "language_info": {
   "codemirror_mode": {
    "name": "ipython",
    "version": 3
   },
   "file_extension": ".py",
   "mimetype": "text/x-python",
   "name": "python",
   "nbconvert_exporter": "python",
   "pygments_lexer": "ipython3",
   "version": "3.7.5"
  }
 },
 "nbformat": 4,
 "nbformat_minor": 2
}
