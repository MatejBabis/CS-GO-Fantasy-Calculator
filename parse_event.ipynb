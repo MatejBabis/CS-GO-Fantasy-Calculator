{
 "cells": [
  {
   "cell_type": "markdown",
   "metadata": {},
   "source": [
    "### ↓↓↓ INPUT HERE ↓↓↓"
   ]
  },
  {
   "cell_type": "code",
   "execution_count": 2,
   "metadata": {},
   "outputs": [],
   "source": [
    "SCORES = \"\"\"\n",
    "#\tTeam\tUser\tRole / Boost\tPoints\tTotal\n",
    "1\t#5cursedbois\tVrzman\t103 / 30\t516\t649\n",
    "2\tThe Chosen Ones\tRippSir\t182 / 70\t356\t608\n",
    "3\tStrong finish\tTademon\t138 / 30\t373\t541\n",
    "4\tmoc moznosti, takze podle citu\timpvlse\t106 / 30\t242\t378\n",
    "5\tKoky da numba van\tKokyTheGod\t82 / 40\t217\t339\n",
    "6\tNeřeknu\trahic\t88 / 10\t178\t276\n",
    "\"\"\"\n",
    "\n",
    "TOURNAMENT = \"ESL Pro League S10\"\n",
    "MULTIPLIER = 1.0\n",
    "MAX_SCORE = 1072\n",
    "\n",
    "\n",
    "######### AUTO BACK UP JUST TO BE SAFE ##############\n",
    "filename = TOURNAMENT.replace(\" \", \"_\")\n",
    "with open(\"./inputs/\" + filename + \".txt\", mode='w') as f:\n",
    "    f.write(\"TOURNAMENT: \" + TOURNAMENT + \"\\n\")\n",
    "    f.write(\"MULTIPLIER: \" + str(MULTIPLIER) + \"\\n\")\n",
    "    f.write(\"MAX_SCORE: \" + str(MAX_SCORE) + \"\\n\")\n",
    "    f.write(\"\\nInput used:\")\n",
    "    f.write(SCORES)"
   ]
  },
  {
   "cell_type": "markdown",
   "metadata": {},
   "source": [
    "### ↑↑↑ INPUT HERE ↑↑↑\n",
    "\n",
    "### Then, run all cells.\n",
    "  "
   ]
  },
  {
   "cell_type": "code",
   "execution_count": 3,
   "metadata": {},
   "outputs": [],
   "source": [
    "import re\n",
    "import os.path\n",
    "import csv\n",
    "from constants import *"
   ]
  },
  {
   "cell_type": "code",
   "execution_count": 4,
   "metadata": {},
   "outputs": [],
   "source": [
    "# FOR USE IN TERMINAL\n",
    "def read_user_input_terminal():\n",
    "    print(\"Paste a copied result table from league's 'Leaderboard' page:\")\n",
    "    copied_contents = []\n",
    "    # Loop until the whole table is read in\n",
    "    while True:\n",
    "        line = input()\n",
    "        # Terminate\n",
    "        if line == '':\n",
    "            break\n",
    "        # Skip the table headers\n",
    "        elif line == '#   Team   User   Role / Boost   Points   Total':\n",
    "            continue\n",
    "        # Append line to the contents\n",
    "        else:\n",
    "            copied_contents.append(line)\n",
    "\n",
    "    return copied_contents\n",
    "\n",
    "# FOR USE IN NOTEBOOK\n",
    "def read_user_input_notebook(data_string):\n",
    "    copied_contents = []\n",
    "    # Loop until the whole table is read in\n",
    "    for line in data_string.replace('\\t', '   ').split('\\n'):\n",
    "        # Skip the table headers\n",
    "        if line == '#   Team   User   Role / Boost   Points   Total':\n",
    "            continue\n",
    "        # Skip empty lines\n",
    "        elif line == '':\n",
    "            continue\n",
    "        # Append line to the contents\n",
    "        else:\n",
    "            copied_contents.append(line)\n",
    "\n",
    "    return copied_contents\n",
    "\n",
    "\n",
    "def parse2dict(entry):\n",
    "    matchObj = re.match(REGEX_PATTERN, entry)\n",
    "    parsed_data = matchObj.groupdict()\n",
    "\n",
    "    # Cast numbers to ints\n",
    "    parsed_data['ROLE'] = int(parsed_data['ROLE'])\n",
    "    parsed_data['BOOST'] = int(parsed_data['BOOST'])\n",
    "    parsed_data['POINTS'] = int(parsed_data['POINTS'])\n",
    "    parsed_data['TOTAL'] = int(parsed_data['TOTAL'])\n",
    "\n",
    "    return parsed_data\n"
   ]
  },
  {
   "cell_type": "code",
   "execution_count": 5,
   "metadata": {},
   "outputs": [
    {
     "name": "stdout",
     "output_type": "stream",
     "text": [
      "ESL Pro League S10 results are:\n",
      "Vrzman: 0.605410447761194\n",
      "RippSir: 0.5671641791044776\n",
      "Tademon: 0.5046641791044776\n",
      "impvlse: 0.35261194029850745\n",
      "KokyTheGod: 0.3162313432835821\n",
      "rahic: 0.2574626865671642\n"
     ]
    }
   ],
   "source": [
    "data = read_user_input_notebook(SCORES)\n",
    "\n",
    "results = []\n",
    "for entry in data:\n",
    "    results.append(parse2dict(entry))\n",
    "\n",
    "print(TOURNAMENT, \"results are:\")\n",
    "for result in results:\n",
    "    waid_score = result['TOTAL'] / MAX_SCORE * MULTIPLIER\n",
    "    print(result['USER'] + \":\", waid_score)"
   ]
  },
  {
   "cell_type": "code",
   "execution_count": 6,
   "metadata": {},
   "outputs": [],
   "source": [
    "filepath = \"./results/\" + filename + \".csv\"\n",
    "\n",
    "if os.path.isfile(filepath):\n",
    "    print(\"File exists. Do you want to cancel?\")\n",
    "    usr_input = input()\n",
    "    \n",
    "    # Not foolproof but that's not the point...\n",
    "    if usr_input == \"y\" or usr_input == 'yes' or usr_input == 'Yes' or usr_input == 'YES' or usr_input == 'Y':\n",
    "        raise KeyboardInterrupt\n",
    "        \n",
    "# Save results to a file\n",
    "with open(filepath, mode='w') as f:\n",
    "    \n",
    "    writer = csv.DictWriter(f, fieldnames=HEADERS)\n",
    "    # write header string\n",
    "    writer.writeheader()\n",
    "\n",
    "    for i, result in enumerate(results):\n",
    "        # compute and add Waid score\n",
    "        results[i][\"WAID\"] = result['TOTAL'] / MAX_SCORE * MULTIPLIER\n",
    "        \n",
    "        writer.writerow(result)"
   ]
  }
 ],
 "metadata": {
  "kernelspec": {
   "display_name": "Python 3",
   "language": "python",
   "name": "python3"
  },
  "language_info": {
   "codemirror_mode": {
    "name": "ipython",
    "version": 3
   },
   "file_extension": ".py",
   "mimetype": "text/x-python",
   "name": "python",
   "nbconvert_exporter": "python",
   "pygments_lexer": "ipython3",
   "version": "3.7.5"
  }
 },
 "nbformat": 4,
 "nbformat_minor": 2
}
