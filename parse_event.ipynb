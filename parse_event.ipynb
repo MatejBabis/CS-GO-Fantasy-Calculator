{
 "cells": [
  {
   "cell_type": "markdown",
   "metadata": {},
   "source": [
    "### ↓↓↓ INPUT HERE ↓↓↓"
   ]
  },
  {
   "cell_type": "code",
   "execution_count": 6,
   "metadata": {},
   "outputs": [],
   "source": [
    "SCORES = \"\"\"\n",
    "1\tThe Chosen Ones\tRippSir\t127 / 80\t139\t51\t397\n",
    "2\t1337\tPolysmen\t114 / 60\t102\t60\t336\n",
    "3\tDlaňovku za stovku\timpvlse\t116 / 40\t94\t33\t283\n",
    "4\tI win kniffs all day long\tTademon\t104 / 30\t72\t60\t266\n",
    "5\tI'm in love with the coco\tKokyTheGod\t95 / 20\t94\t42\t251\n",
    "6\tTududutudududu\tRakvis\t82 / 30\t80\t33\t225\n",
    "7\tTududu dudududu\tVrzman\t95 / 80\t-16\t24\t183\n",
    "\"\"\"\n",
    "\n",
    "TOURNAMENT = \"ICE Challenge 2020\"\n",
    "# 0.8 (<6), 0.9 (6), 1.0 (8), 1.2 (16), 1.35 (major)\n",
    "MULTIPLIER = 1.0\n",
    "MAX_SCORE = 496\n",
    "\n",
    "\n",
    "######### AUTO BACK UP JUST TO BE SAFE ##############\n",
    "filename = TOURNAMENT.replace(\" \", \"_\")\n",
    "with open(\"./inputs/\" + filename + \".txt\", mode='w') as f:\n",
    "    f.write(\"TOURNAMENT: \" + TOURNAMENT + \"\\n\")\n",
    "    f.write(\"MULTIPLIER: \" + str(MULTIPLIER) + \"\\n\")\n",
    "    f.write(\"MAX_SCORE: \" + str(MAX_SCORE) + \"\\n\")\n",
    "    f.write(\"\\nInput used:\")\n",
    "    f.write(SCORES)"
   ]
  },
  {
   "cell_type": "markdown",
   "metadata": {},
   "source": [
    "### ↑↑↑ INPUT HERE ↑↑↑\n",
    "\n",
    "### Then, run all cells.\n",
    "  "
   ]
  },
  {
   "cell_type": "code",
   "execution_count": 7,
   "metadata": {},
   "outputs": [],
   "source": [
    "import re\n",
    "import os.path\n",
    "import csv\n",
    "from constants import *"
   ]
  },
  {
   "cell_type": "code",
   "execution_count": 8,
   "metadata": {},
   "outputs": [],
   "source": [
    "# FOR USE IN TERMINAL\n",
    "def read_user_input_terminal():\n",
    "    print(\"Paste a copied result table from league's 'Leaderboard' page:\")\n",
    "    copied_contents = []\n",
    "    # Loop until the whole table is read in\n",
    "    while True:\n",
    "        line = input()\n",
    "        # Terminate\n",
    "        if line == '':\n",
    "            break\n",
    "        # Skip the table headers\n",
    "        elif line == '#\tTeam\tUser\tRole / Boost\tPoints\tTeam Points\tTotal':\n",
    "            continue\n",
    "        # Append line to the contents\n",
    "        else:\n",
    "            copied_contents.append(line)\n",
    "\n",
    "    return copied_contents\n",
    "\n",
    "# FOR USE IN NOTEBOOK\n",
    "def read_user_input_notebook(data_string):\n",
    "    copied_contents = []\n",
    "    # Loop until the whole table is read in\n",
    "    for line in data_string.replace('\\t', '   ').split('\\n'):\n",
    "        # Skip the table headers\n",
    "        if line == '#\tTeam\tUser\tRole / Boost\tPoints\tTeam Points\tTotal':\n",
    "            continue\n",
    "        # Skip empty lines\n",
    "        elif line == '':\n",
    "            continue\n",
    "        # Append line to the contents\n",
    "        else:\n",
    "            copied_contents.append(line)\n",
    "    return copied_contents\n",
    "\n",
    "\n",
    "def parse2dict(entry):\n",
    "    matchObj = re.match(REGEX_PATTERN, entry)\n",
    "    parsed_data = matchObj.groupdict()\n",
    "\n",
    "    # Cast numbers to ints\n",
    "    parsed_data['ROLE'] = int(parsed_data['ROLE'])\n",
    "    parsed_data['BOOST'] = int(parsed_data['BOOST'])\n",
    "    parsed_data['POINTS'] = int(parsed_data['POINTS'])\n",
    "    parsed_data['TEAMPOINTS'] = int(parsed_data['TEAMPOINTS'])\n",
    "    parsed_data['TOTAL'] = int(parsed_data['TOTAL'])\n",
    "\n",
    "    return parsed_data\n"
   ]
  },
  {
   "cell_type": "code",
   "execution_count": 9,
   "metadata": {},
   "outputs": [
    {
     "name": "stdout",
     "output_type": "stream",
     "text": [
      "ICE Challenge 2020 results are:\n",
      "RippSir: 0.8004032258064516\n",
      "Polysmen: 0.6774193548387096\n",
      "impvlse: 0.5705645161290323\n",
      "Tademon: 0.5362903225806451\n",
      "KokyTheGod: 0.5060483870967742\n",
      "Rakvis: 0.4536290322580645\n",
      "Vrzman: 0.3689516129032258\n"
     ]
    }
   ],
   "source": [
    "data = read_user_input_notebook(SCORES)\n",
    "\n",
    "results = []\n",
    "for entry in data:\n",
    "    results.append(parse2dict(entry))\n",
    "print(TOURNAMENT, \"results are:\")\n",
    "for result in results:\n",
    "    waid_score = result['TOTAL'] / MAX_SCORE * MULTIPLIER\n",
    "    print(result['USER'] + \":\", waid_score)"
   ]
  },
  {
   "cell_type": "code",
   "execution_count": 11,
   "metadata": {
    "scrolled": true
   },
   "outputs": [
    {
     "name": "stdout",
     "output_type": "stream",
     "text": [
      "File exists. Do you want to cancel?\n",
      "\n"
     ]
    }
   ],
   "source": [
    "filepath = \"./results/\" + filename + \".csv\"\n",
    "\n",
    "if os.path.isfile(filepath):\n",
    "    print(\"File exists. Do you want to cancel?\")\n",
    "    usr_input = input()\n",
    "    \n",
    "    # Not foolproof but that's not the point...\n",
    "    if usr_input == \"y\" or usr_input == 'yes' or usr_input == 'Yes' or usr_input == 'YES' or usr_input == 'Y':\n",
    "        raise KeyboardInterrupt\n",
    "        \n",
    "# Save results to a file\n",
    "with open(filepath, mode='w') as f:\n",
    "    \n",
    "    writer = csv.DictWriter(f, fieldnames=HEADERS)\n",
    "    # write header string\n",
    "    writer.writeheader()\n",
    "\n",
    "    for i, result in enumerate(results):\n",
    "        # compute and add Waid score\n",
    "        results[i][\"WAID\"] = result['TOTAL'] / MAX_SCORE * MULTIPLIER\n",
    "        \n",
    "        writer.writerow(result)"
   ]
  }
 ],
 "metadata": {
  "kernelspec": {
   "display_name": "Python 3",
   "language": "python",
   "name": "python3"
  },
  "language_info": {
   "codemirror_mode": {
    "name": "ipython",
    "version": 3
   },
   "file_extension": ".py",
   "mimetype": "text/x-python",
   "name": "python",
   "nbconvert_exporter": "python",
   "pygments_lexer": "ipython3",
   "version": "3.7.5"
  }
 },
 "nbformat": 4,
 "nbformat_minor": 2
}
