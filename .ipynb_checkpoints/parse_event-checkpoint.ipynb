{
 "cells": [
  {
   "cell_type": "markdown",
   "metadata": {},
   "source": [
    "### ↓↓↓ INPUT HERE ↓↓↓"
   ]
  },
  {
   "cell_type": "code",
   "execution_count": 6,
   "metadata": {},
   "outputs": [],
   "source": [
    "SCORES = \"\"\"\n",
    "#\tTeam\tUser\tRole / Boost\tPoints\tTotal\n",
    "1\tVeselá chasa\tVrzman\t187 / 70\t540\t797\n",
    "2\tThe Chosen Ones\tRippSir\t174 / 30\t533\t737\n",
    "3\tKapička flíčku\tKokyTheGod\t178 / 20\t477\t675\n",
    "4\tez4ence\timpvlse\t140 / 20\t494\t654\n",
    "5\tKonečně pořádný hráči\tTademon\t128 / 30\t467\t625\n",
    "6\t7\tPolysmen\t62 / 30\t379\t471\n",
    "\"\"\"\n",
    "\n",
    "TOURNAMENT = \"Dreamhack Open Atlanta\"\n",
    "MULTIPLIER = 0.5\n",
    "MAX_SCORE = 865\n",
    "\n",
    "\n",
    "######### AUTO BACK UP JUST TO BE SAFE ##############\n",
    "filename = TOURNAMENT.replace(\" \", \"_\")\n",
    "with open(\"./inputs/\" + filename + \".txt\", mode='w') as f:\n",
    "    f.write(\"TOURNAMENT: \" + TOURNAMENT + \"\\n\")\n",
    "    f.write(\"MULTIPLIER: \" + str(MULTIPLIER) + \"\\n\")\n",
    "    f.write(\"MAX_SCORE: \" + str(MAX_SCORE) + \"\\n\")\n",
    "    f.write(\"\\nInput used:\")\n",
    "    f.write(SCORES)"
   ]
  },
  {
   "cell_type": "markdown",
   "metadata": {},
   "source": [
    "### ↑↑↑ INPUT HERE ↑↑↑\n",
    "\n",
    "### Then, run all cells.\n",
    "  "
   ]
  },
  {
   "cell_type": "code",
   "execution_count": 7,
   "metadata": {},
   "outputs": [],
   "source": [
    "import re\n",
    "import os.path\n",
    "import csv\n",
    "from constants import *"
   ]
  },
  {
   "cell_type": "code",
   "execution_count": 8,
   "metadata": {},
   "outputs": [],
   "source": [
    "# FOR USE IN TERMINAL\n",
    "def read_user_input_terminal():\n",
    "    print(\"Paste a copied result table from league's 'Leaderboard' page:\")\n",
    "    copied_contents = []\n",
    "    # Loop until the whole table is read in\n",
    "    while True:\n",
    "        line = input()\n",
    "        # Terminate\n",
    "        if line == '':\n",
    "            break\n",
    "        # Skip the table headers\n",
    "        elif line == '#   Team   User   Role / Boost   Points   Total':\n",
    "            continue\n",
    "        # Append line to the contents\n",
    "        else:\n",
    "            copied_contents.append(line)\n",
    "\n",
    "    return copied_contents\n",
    "\n",
    "# FOR USE IN NOTEBOOK\n",
    "def read_user_input_notebook(data_string):\n",
    "    copied_contents = []\n",
    "    # Loop until the whole table is read in\n",
    "    for line in data_string.replace('\\t', '   ').split('\\n'):\n",
    "        # Skip the table headers\n",
    "        if line == '#   Team   User   Role / Boost   Points   Total':\n",
    "            continue\n",
    "        # Skip empty lines\n",
    "        elif line == '':\n",
    "            continue\n",
    "        # Append line to the contents\n",
    "        else:\n",
    "            copied_contents.append(line)\n",
    "\n",
    "    return copied_contents\n",
    "\n",
    "\n",
    "def parse2dict(entry):\n",
    "    matchObj = re.match(REGEX_PATTERN, entry)\n",
    "    parsed_data = matchObj.groupdict()\n",
    "\n",
    "    # Cast numbers to ints\n",
    "    parsed_data['ROLE'] = int(parsed_data['ROLE'])\n",
    "    parsed_data['BOOST'] = int(parsed_data['BOOST'])\n",
    "    parsed_data['POINTS'] = int(parsed_data['POINTS'])\n",
    "    parsed_data['TOTAL'] = int(parsed_data['TOTAL'])\n",
    "\n",
    "    return parsed_data\n"
   ]
  },
  {
   "cell_type": "code",
   "execution_count": 9,
   "metadata": {},
   "outputs": [
    {
     "name": "stdout",
     "output_type": "stream",
     "text": [
      "Dreamhack Open Atlanta results are:\n",
      "Vrzman: 0.46069364161849713\n",
      "RippSir: 0.4260115606936416\n",
      "KokyTheGod: 0.3901734104046243\n",
      "impvlse: 0.37803468208092483\n",
      "Tademon: 0.36127167630057805\n",
      "Polysmen: 0.2722543352601156\n"
     ]
    }
   ],
   "source": [
    "data = read_user_input_notebook(SCORES)\n",
    "\n",
    "results = []\n",
    "for entry in data:\n",
    "    results.append(parse2dict(entry))\n",
    "\n",
    "print(TOURNAMENT, \"results are:\")\n",
    "for result in results:\n",
    "    waid_score = result['TOTAL'] / MAX_SCORE * MULTIPLIER\n",
    "    print(result['USER'] + \":\", waid_score)"
   ]
  },
  {
   "cell_type": "code",
   "execution_count": 10,
   "metadata": {},
   "outputs": [],
   "source": [
    "filepath = \"./results/\" + filename + \".csv\"\n",
    "\n",
    "if os.path.isfile(filepath):\n",
    "    print(\"File exists. Do you want to cancel?\")\n",
    "    usr_input = input()\n",
    "    \n",
    "    # Not foolproof but that's not the point...\n",
    "    if usr_input == \"y\" or usr_input == 'yes' or usr_input == 'Yes' or usr_input == 'YES' or usr_input == 'Y':\n",
    "        raise KeyboardInterrupt\n",
    "        \n",
    "# Save results to a file\n",
    "with open(filepath, mode='w') as f:\n",
    "    \n",
    "    writer = csv.DictWriter(f, fieldnames=HEADERS)\n",
    "    # write header string\n",
    "    writer.writeheader()\n",
    "\n",
    "    for i, result in enumerate(results):\n",
    "        # compute and add Waid score\n",
    "        results[i][\"WAID\"] = result['TOTAL'] / MAX_SCORE * MULTIPLIER\n",
    "        \n",
    "        writer.writerow(result)"
   ]
  }
 ],
 "metadata": {
  "kernelspec": {
   "display_name": "Python 3",
   "language": "python",
   "name": "python3"
  },
  "language_info": {
   "codemirror_mode": {
    "name": "ipython",
    "version": 3
   },
   "file_extension": ".py",
   "mimetype": "text/x-python",
   "name": "python",
   "nbconvert_exporter": "python",
   "pygments_lexer": "ipython3",
   "version": "3.7.3"
  }
 },
 "nbformat": 4,
 "nbformat_minor": 2
}
